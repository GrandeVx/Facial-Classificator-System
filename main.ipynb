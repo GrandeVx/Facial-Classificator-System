{
 "cells": [
  {
   "attachments": {},
   "cell_type": "markdown",
   "metadata": {},
   "source": [
    "# ReFace Advanced Implementation\n",
    "\n",
    "## Obiettivi\n",
    "\n",
    "1. Acquisire il Database senza label e generare dataset apposito\n",
    "2. Sfruttando gli algoritmi studiati generare dei cluster \n",
    "3. Salvare tutte le informazioni rilevanti ogni immagine (con il volto noto)\n",
    "4. Generare gli embedded medi di ogni cluster\n",
    "5. Analizzare una nuova immagine ed essere capace di capire se è parte di un cluster\n",
    "\n",
    "## Progressi\n",
    "\n",
    "1. Integrare il concetto di \"Più persone in un Immagine\"\n"
   ]
  },
  {
   "cell_type": "code",
   "execution_count": null,
   "metadata": {},
   "outputs": [],
   "source": [
    "%git clone https://github.com/serengil/deepface.git"
   ]
  },
  {
   "cell_type": "code",
   "execution_count": 14,
   "metadata": {},
   "outputs": [],
   "source": [
    "from model.Facenet512 import loadModel\n",
    "from deepface import DeepFace\n",
    "import numpy as np\n",
    "import pandas as pd\n",
    "from rich.console import Console\n",
    "import cv2\n",
    "import os\n",
    "\n",
    "from sklearn.neighbors import NearestNeighbors\n",
    "from sklearn.metrics import silhouette_score\n",
    "from sklearn.manifold import TSNE\n",
    "import matplotlib.pyplot as plt\n",
    "from sklearn.cluster import DBSCAN\n",
    "\n",
    "from PIL import Image\n",
    "from pillow_heif import register_heif_opener\n",
    "register_heif_opener()\n",
    "import uuid"
   ]
  },
  {
   "cell_type": "code",
   "execution_count": 3,
   "metadata": {},
   "outputs": [],
   "source": [
    "console = Console()\n",
    "database = \"data/\"\n",
    "weights = \"weights/facenet512_weights.h5\"\n",
    "backends = \"mtcnn\"\n",
    "target_size = (160, 160)\n",
    "\n",
    "os.makedirs(\"database\", exist_ok=True)"
   ]
  },
  {
   "cell_type": "code",
   "execution_count": 4,
   "metadata": {},
   "outputs": [
    {
     "data": {
      "text/html": [
       "<pre style=\"white-space:pre;overflow-x:auto;line-height:normal;font-family:Menlo,'DejaVu Sans Mono',consolas,'Courier New',monospace\"><span style=\"color: #7fbfbf; text-decoration-color: #7fbfbf\">[12:50:11] </span>FaceNet512 loaded                                                                        <a href=\"file:///var/folders/km/120p9crx77scwcfclv6zynfr0000gn/T/ipykernel_8026/1095772783.py\" target=\"_blank\"><span style=\"color: #7f7f7f; text-decoration-color: #7f7f7f\">1095772783.py</span></a><span style=\"color: #7f7f7f; text-decoration-color: #7f7f7f\">:</span><a href=\"file:///var/folders/km/120p9crx77scwcfclv6zynfr0000gn/T/ipykernel_8026/1095772783.py#2\" target=\"_blank\"><span style=\"color: #7f7f7f; text-decoration-color: #7f7f7f\">2</span></a>\n",
       "</pre>\n"
      ],
      "text/plain": [
       "\u001b[2;36m[12:50:11]\u001b[0m\u001b[2;36m \u001b[0mFaceNet512 loaded                                                                        \u001b]8;id=345116;file:///var/folders/km/120p9crx77scwcfclv6zynfr0000gn/T/ipykernel_8026/1095772783.py\u001b\\\u001b[2m1095772783.py\u001b[0m\u001b]8;;\u001b\\\u001b[2m:\u001b[0m\u001b]8;id=690918;file:///var/folders/km/120p9crx77scwcfclv6zynfr0000gn/T/ipykernel_8026/1095772783.py#2\u001b\\\u001b[2m2\u001b[0m\u001b]8;;\u001b\\\n"
      ]
     },
     "metadata": {},
     "output_type": "display_data"
    }
   ],
   "source": [
    "model = loadModel(weights_path=weights)\n",
    "console.log(\"FaceNet512 loaded\")"
   ]
  },
  {
   "attachments": {},
   "cell_type": "markdown",
   "metadata": {},
   "source": [
    "# Preparazione Immagini\n",
    "\n",
    "prima di cominciare per una questione *organizzazitva* andiamo a sostitutire i nominativi di ogni immagine in un **uuid()** e convertiamo tutte le immagini in **jpg**"
   ]
  },
  {
   "cell_type": "code",
   "execution_count": 5,
   "metadata": {},
   "outputs": [],
   "source": [
    "def convert_heic_to_jpg(heic_file_path):\n",
    "    temp_img = Image.open(heic_file_path)\n",
    "    png_photo = heic_file_path.replace('.HEIC','.png')\n",
    "    temp_img.save(database + uuid.uuid4() + \".png\")\n",
    "    os.remove(heic_file_path)\n",
    "    return heic_file_path[:-5] + \".jpg\""
   ]
  },
  {
   "cell_type": "code",
   "execution_count": 6,
   "metadata": {},
   "outputs": [],
   "source": [
    "for image in os.listdir(database):\n",
    "    try : \n",
    "        uuid.UUID(image[:-4])\n",
    "        continue\n",
    "\n",
    "    except:\n",
    "\n",
    "        if image.endswith(('.heic', '.heif', '.HEIC', '.HEIF')):\n",
    "            \n",
    "            try:\n",
    "                image_path = convert_heic_to_jpg(database + image)\n",
    "            except :\n",
    "                os.remove(database + image)\n",
    "                continue        \n",
    "\n",
    "        os.rename(database + image, database + str(uuid.uuid4()) + \".jpg\")\n"
   ]
  },
  {
   "attachments": {},
   "cell_type": "markdown",
   "metadata": {},
   "source": [
    "# Generazione Dataset\n",
    "\n",
    "Questo dataset è la nostra parallelizzazione di un Database"
   ]
  },
  {
   "cell_type": "code",
   "execution_count": 7,
   "metadata": {},
   "outputs": [],
   "source": [
    "database_df = pd.DataFrame(columns=[\"img\", \"identity\"])\n",
    "database_df = database_df.set_index(\"img\")\n",
    "\n",
    "for image in os.listdir(database):\n",
    "    database_df.loc[image] = {\"identity\": -1}\n",
    "\n",
    "# Questo è il dataframe è quello operativo che contiene le immagini e le loro identità\n",
    "df = pd.DataFrame(columns=[\"img\", \"embedded\"])\n"
   ]
  },
  {
   "attachments": {},
   "cell_type": "markdown",
   "metadata": {},
   "source": [
    "# Identificazione e Cluster Del Singolo Volto!"
   ]
  },
  {
   "cell_type": "code",
   "execution_count": 143,
   "metadata": {},
   "outputs": [],
   "source": [
    "def find_image_embedded(img_path):\n",
    "    try:\n",
    "        face_objs = DeepFace.extract_faces(img_path, detector_backend = backends, target_size = target_size, verbose=False)\n",
    "    except:\n",
    "        with open(\"../../log/missing_faces.log\", \"a\") as f:\n",
    "            f.write(img_path + \"\\n\")\n",
    "        return Exception(\"Face not found\")\n",
    "    # In questo caso diamo per scontato che ci sia una sola faccia\n",
    "    print(face_objs[0])\n",
    "    user_face = face_objs[0]['face'] \n",
    "    user_face_expanded = np.expand_dims(user_face, axis=0)\n",
    "    embedded = model.predict(user_face_expanded, verbose=0)[0].tolist()\n",
    "\n",
    "    return embedded"
   ]
  },
  {
   "cell_type": "code",
   "execution_count": null,
   "metadata": {},
   "outputs": [],
   "source": [
    "num_images = len(os.listdir(database))\n",
    "checked_images = 0\n",
    "console.log(\"Inizio ad analizzare i volti presenti nel database [\"+ str(num_images) +\"]\")\n",
    "\n",
    "for image in os.listdir(database):\n",
    "\n",
    "    img_path = database + image\n",
    "\n",
    "    try:\n",
    "        embedded = find_image_embedded(img_path)\n",
    "    except:\n",
    "        continue\n",
    "    \n",
    "    df.loc[len(df)] = {\"img\": image, \"embedded\": embedded}\n",
    "\n",
    "    checked_images += 1\n",
    "\n",
    "    if checked_images % int(num_images / 10) == 0 or checked_images == num_images or checked_images == 1: \n",
    "        console.log(\"[bold green]\" + str(checked_images) + \" / \" + str(num_images) +  \"[/bold green]\" + \" immagini Controllate\")\n",
    "\n",
    "\n",
    "console.log(\"Ho analizzato tutti i volti presenti nel database\")"
   ]
  },
  {
   "attachments": {},
   "cell_type": "markdown",
   "metadata": {},
   "source": [
    "# Generazione dei Cluster\n",
    "\n",
    "Andiamo ad utilizzare algoritmi com DBSCAN per ottenere una suddivisione iniziale su cui lavorare\n",
    "\n",
    "I cluster rappresentano dei gruppi di immagine che raffigurano la giusta persona"
   ]
  },
  {
   "cell_type": "code",
   "execution_count": 10,
   "metadata": {},
   "outputs": [
    {
     "data": {
      "text/plain": [
       "<matplotlib.collections.PathCollection at 0x2995f1030>"
      ]
     },
     "execution_count": 10,
     "metadata": {},
     "output_type": "execute_result"
    },
    {
     "data": {
      "image/png": "[encoded data removed]",
      "text/plain": [
       "<Figure size 400x300 with 1 Axes>"
      ]
     },
     "metadata": {},
     "output_type": "display_data"
    }
   ],
   "source": [
    "data = df[\"embedded\"].to_list()\n",
    "data = np.array(data)\n",
    "\n",
    "tsne = TSNE(n_components=2, random_state=0)\n",
    "X_2d = tsne.fit_transform(data)\n",
    "\n",
    "plt.figure(figsize=(4, 3))\n",
    "plt.scatter(X_2d[:, 0], X_2d[:, 1], c=\"blue\")"
   ]
  },
  {
   "attachments": {},
   "cell_type": "markdown",
   "metadata": {},
   "source": [
    "# Otteniamo il miglior parametro eps per il nostro DBSCAN\n",
    "\n",
    "ricordiamo che il parametro eps rappresenta la distanza massima tra due embedding per essere definiti equivalenti,\n",
    "operazione che abbiamo già prosto nella nostra demo live per verificare se il volto in webcam apparteneva qualcuno"
   ]
  },
  {
   "cell_type": "code",
   "execution_count": 13,
   "metadata": {},
   "outputs": [],
   "source": [
    "def find_best_eps(data):\n",
    "\n",
    "    eps_min = 10.0  # Valore minimo di eps da esplorare.\n",
    "    eps_max = 20.0  # Valore massimo di eps da esplorare.\n",
    "    eps_step = 0.1  # Passo di incremento per eps.\n",
    "\n",
    "    best_eps = None\n",
    "    best_score = -1\n",
    "\n",
    "    for eps in np.arange(eps_min, eps_max, eps_step):\n",
    "        dbscan = DBSCAN(eps=eps, min_samples=4, metric='euclidean')\n",
    "        dbscan.fit(data)\n",
    "        labels = dbscan.labels_\n",
    "        \n",
    "        # Calcola il coefficiente di Silhouette per valutare la qualità del clustering.\n",
    "        score = silhouette_score(data, labels)\n",
    "        \n",
    "        # Confronta il punteggio con il miglior punteggio finora.\n",
    "        if score > best_score:\n",
    "            best_score = score\n",
    "            best_eps = eps\n",
    "\n",
    "            \n",
    "    return best_eps\n"
   ]
  },
  {
   "attachments": {},
   "cell_type": "markdown",
   "metadata": {},
   "source": [
    "# Effettuiamo il vero Cluster con il miglior parametro"
   ]
  },
  {
   "cell_type": "code",
   "execution_count": 89,
   "metadata": {},
   "outputs": [
    {
     "data": {
      "text/html": [
       "<pre style=\"white-space:pre;overflow-x:auto;line-height:normal;font-family:Menlo,'DejaVu Sans Mono',consolas,'Courier New',monospace\"><span style=\"color: #7fbfbf; text-decoration-color: #7fbfbf\">[16:56:08] </span>Il valore di eps è: <span style=\"color: #008080; text-decoration-color: #008080; font-weight: bold\">17.799999999999972</span>                                                    <a href=\"file:///var/folders/km/120p9crx77scwcfclv6zynfr0000gn/T/ipykernel_8026/216019032.py\" target=\"_blank\"><span style=\"color: #7f7f7f; text-decoration-color: #7f7f7f\">216019032.py</span></a><span style=\"color: #7f7f7f; text-decoration-color: #7f7f7f\">:</span><a href=\"file:///var/folders/km/120p9crx77scwcfclv6zynfr0000gn/T/ipykernel_8026/216019032.py#2\" target=\"_blank\"><span style=\"color: #7f7f7f; text-decoration-color: #7f7f7f\">2</span></a>\n",
       "</pre>\n"
      ],
      "text/plain": [
       "\u001b[2;36m[16:56:08]\u001b[0m\u001b[2;36m \u001b[0mIl valore di eps è: \u001b[1;36m17.799999999999972\u001b[0m                                                    \u001b]8;id=447153;file:///var/folders/km/120p9crx77scwcfclv6zynfr0000gn/T/ipykernel_8026/216019032.py\u001b\\\u001b[2m216019032.py\u001b[0m\u001b]8;;\u001b\\\u001b[2m:\u001b[0m\u001b]8;id=883626;file:///var/folders/km/120p9crx77scwcfclv6zynfr0000gn/T/ipykernel_8026/216019032.py#2\u001b\\\u001b[2m2\u001b[0m\u001b]8;;\u001b\\\n"
      ]
     },
     "metadata": {},
     "output_type": "display_data"
    },
    {
     "data": {
      "text/html": [
       "<pre style=\"white-space:pre;overflow-x:auto;line-height:normal;font-family:Menlo,'DejaVu Sans Mono',consolas,'Courier New',monospace\"><span style=\"color: #7fbfbf; text-decoration-color: #7fbfbf\">           </span>Numero di cluster trovati: <span style=\"color: #008080; text-decoration-color: #008080; font-weight: bold\">12</span>                                                             <a href=\"file:///var/folders/km/120p9crx77scwcfclv6zynfr0000gn/T/ipykernel_8026/216019032.py\" target=\"_blank\"><span style=\"color: #7f7f7f; text-decoration-color: #7f7f7f\">216019032.py</span></a><span style=\"color: #7f7f7f; text-decoration-color: #7f7f7f\">:</span><a href=\"file:///var/folders/km/120p9crx77scwcfclv6zynfr0000gn/T/ipykernel_8026/216019032.py#8\" target=\"_blank\"><span style=\"color: #7f7f7f; text-decoration-color: #7f7f7f\">8</span></a>\n",
       "</pre>\n"
      ],
      "text/plain": [
       "\u001b[2;36m          \u001b[0m\u001b[2;36m \u001b[0mNumero di cluster trovati: \u001b[1;36m12\u001b[0m                                                             \u001b]8;id=802841;file:///var/folders/km/120p9crx77scwcfclv6zynfr0000gn/T/ipykernel_8026/216019032.py\u001b\\\u001b[2m216019032.py\u001b[0m\u001b]8;;\u001b\\\u001b[2m:\u001b[0m\u001b]8;id=751196;file:///var/folders/km/120p9crx77scwcfclv6zynfr0000gn/T/ipykernel_8026/216019032.py#8\u001b\\\u001b[2m8\u001b[0m\u001b]8;;\u001b\\\n"
      ]
     },
     "metadata": {},
     "output_type": "display_data"
    },
    {
     "data": {
      "image/png": "[encoded data removed]",
      "text/plain": [
       "<Figure size 600x400 with 1 Axes>"
      ]
     },
     "metadata": {},
     "output_type": "display_data"
    }
   ],
   "source": [
    "eps = find_best_eps(data)\n",
    "console.log(\"Il valore di eps è: \" + str(eps))\n",
    "\n",
    "dbscan = DBSCAN(eps=eps, min_samples=2, metric='euclidean')\n",
    "dbscan.fit(data)\n",
    "labels = dbscan.labels_\n",
    "\n",
    "console.log(\"Numero di cluster trovati: \" + str(len(set(labels))))\n",
    "\n",
    "tsne = TSNE(n_components=2, random_state=0)\n",
    "X_2d = tsne.fit_transform(data)\n",
    "\n",
    "plt.figure(figsize=(6, 4))\n",
    "plt.scatter(X_2d[:, 0], X_2d[:, 1], c=labels)\n",
    "plt.title(\"DBSCAN su \" + str(len(set(labels))) + \" cluster\")\n",
    "\n",
    "plt.show()\n"
   ]
  },
  {
   "attachments": {},
   "cell_type": "markdown",
   "metadata": {},
   "source": [
    "# Andiamo ad Salvare tutti i Cluster ed ad Esportare il nostro db"
   ]
  },
  {
   "cell_type": "code",
   "execution_count": 90,
   "metadata": {},
   "outputs": [],
   "source": [
    "for i in range(len(labels)):\n",
    "    database_df.loc[df[\"img\"][i]][\"identity\"] = labels[i]\n",
    "\n",
    "database_df.to_csv(\"../../database/database.csv\")"
   ]
  },
  {
   "attachments": {},
   "cell_type": "markdown",
   "metadata": {},
   "source": [
    "# Andiamo a Calcolare gli Embedding Medi di ogni Cluster"
   ]
  },
  {
   "cell_type": "code",
   "execution_count": 145,
   "metadata": {},
   "outputs": [],
   "source": [
    "# Generiamo una lista contente i cluster trovati\n",
    "clusters = list(set(labels))\n",
    "clusters.sort()\n",
    "clusters.remove(-1)\n",
    "\n",
    "df_embedded = pd.DataFrame(columns=[\"cluster\", \"embedded\",\"copertina\"])\n",
    "df_embedded = df_embedded.set_index(\"cluster\")\n",
    "\n",
    "# per ogni cluster identificare gli embedded che lo compongono e calcolare la media\n",
    "for cluster in clusters:\n",
    "    df_embedded.loc[len(df_embedded)] = {\"cluster\": cluster, \"embedded\": np.mean(df[df[\"img\"].isin(database_df[database_df[\"identity\"] == cluster].index)][\"embedded\"].to_list(), axis=0), \"copertina\": database_df[database_df[\"identity\"] == cluster].index[0]}\n",
    "\n",
    "df_embedded.to_csv(\"../../database/embedded.csv\")\n"
   ]
  },
  {
   "attachments": {},
   "cell_type": "markdown",
   "metadata": {},
   "source": [
    "# Generiamo il Sistema di acquisizione di nuove immagini\n",
    "\n",
    "    - Prendiamo una nuova immagine\n",
    "    - Verifichiamo se è presente un volto\n",
    "    - Generiamo l'embedding del volto\n",
    "    \n",
    "    - Verifichiamo se il volto è associabile ad un cluster\n",
    "        - Se è associabile lo identifichiamo come volto noto\n",
    "\n",
    "    - Se non è associabile lo identifichiamo come nuovo volto\n"
   ]
  },
  {
   "attachments": {},
   "cell_type": "markdown",
   "metadata": {},
   "source": [
    "## Implementiamo il modello NearestNeighbors per la ricerca del volto più vicino"
   ]
  },
  {
   "cell_type": "code",
   "execution_count": 146,
   "metadata": {},
   "outputs": [
    {
     "data": {
      "text/html": [
       "<style>#sk-container-id-1 {color: black;background-color: white;}#sk-container-id-1 pre{padding: 0;}#sk-container-id-1 div.sk-toggleable {background-color: white;}#sk-container-id-1 label.sk-toggleable__label {cursor: pointer;display: block;width: 100%;margin-bottom: 0;padding: 0.3em;box-sizing: border-box;text-align: center;}#sk-container-id-1 label.sk-toggleable__label-arrow:before {content: \"▸\";float: left;margin-right: 0.25em;color: #696969;}#sk-container-id-1 label.sk-toggleable__label-arrow:hover:before {color: black;}#sk-container-id-1 div.sk-estimator:hover label.sk-toggleable__label-arrow:before {color: black;}#sk-container-id-1 div.sk-toggleable__content {max-height: 0;max-width: 0;overflow: hidden;text-align: left;background-color: #f0f8ff;}#sk-container-id-1 div.sk-toggleable__content pre {margin: 0.2em;color: black;border-radius: 0.25em;background-color: #f0f8ff;}#sk-container-id-1 input.sk-toggleable__control:checked~div.sk-toggleable__content {max-height: 200px;max-width: 100%;overflow: auto;}#sk-container-id-1 input.sk-toggleable__control:checked~label.sk-toggleable__label-arrow:before {content: \"▾\";}#sk-container-id-1 div.sk-estimator input.sk-toggleable__control:checked~label.sk-toggleable__label {background-color: #d4ebff;}#sk-container-id-1 div.sk-label input.sk-toggleable__control:checked~label.sk-toggleable__label {background-color: #d4ebff;}#sk-container-id-1 input.sk-hidden--visually {border: 0;clip: rect(1px 1px 1px 1px);clip: rect(1px, 1px, 1px, 1px);height: 1px;margin: -1px;overflow: hidden;padding: 0;position: absolute;width: 1px;}#sk-container-id-1 div.sk-estimator {font-family: monospace;background-color: #f0f8ff;border: 1px dotted black;border-radius: 0.25em;box-sizing: border-box;margin-bottom: 0.5em;}#sk-container-id-1 div.sk-estimator:hover {background-color: #d4ebff;}#sk-container-id-1 div.sk-parallel-item::after {content: \"\";width: 100%;border-bottom: 1px solid gray;flex-grow: 1;}#sk-container-id-1 div.sk-label:hover label.sk-toggleable__label {background-color: #d4ebff;}#sk-container-id-1 div.sk-serial::before {content: \"\";position: absolute;border-left: 1px solid gray;box-sizing: border-box;top: 0;bottom: 0;left: 50%;z-index: 0;}#sk-container-id-1 div.sk-serial {display: flex;flex-direction: column;align-items: center;background-color: white;padding-right: 0.2em;padding-left: 0.2em;position: relative;}#sk-container-id-1 div.sk-item {position: relative;z-index: 1;}#sk-container-id-1 div.sk-parallel {display: flex;align-items: stretch;justify-content: center;background-color: white;position: relative;}#sk-container-id-1 div.sk-item::before, #sk-container-id-1 div.sk-parallel-item::before {content: \"\";position: absolute;border-left: 1px solid gray;box-sizing: border-box;top: 0;bottom: 0;left: 50%;z-index: -1;}#sk-container-id-1 div.sk-parallel-item {display: flex;flex-direction: column;z-index: 1;position: relative;background-color: white;}#sk-container-id-1 div.sk-parallel-item:first-child::after {align-self: flex-end;width: 50%;}#sk-container-id-1 div.sk-parallel-item:last-child::after {align-self: flex-start;width: 50%;}#sk-container-id-1 div.sk-parallel-item:only-child::after {width: 0;}#sk-container-id-1 div.sk-dashed-wrapped {border: 1px dashed gray;margin: 0 0.4em 0.5em 0.4em;box-sizing: border-box;padding-bottom: 0.4em;background-color: white;}#sk-container-id-1 div.sk-label label {font-family: monospace;font-weight: bold;display: inline-block;line-height: 1.2em;}#sk-container-id-1 div.sk-label-container {text-align: center;}#sk-container-id-1 div.sk-container {/* jupyter's `normalize.less` sets `[hidden] { display: none; }` but bootstrap.min.css set `[hidden] { display: none !important; }` so we also need the `!important` here to be able to override the default hidden behavior on the sphinx rendered scikit-learn.org. See: https://github.com/scikit-learn/scikit-learn/issues/21755 */display: inline-block !important;position: relative;}#sk-container-id-1 div.sk-text-repr-fallback {display: none;}</style><div id=\"sk-container-id-1\" class=\"sk-top-container\"><div class=\"sk-text-repr-fallback\"><pre>NearestNeighbors(algorithm=&#x27;ball_tree&#x27;, n_neighbors=1)</pre><b>In a Jupyter environment, please rerun this cell to show the HTML representation or trust the notebook. <br />On GitHub, the HTML representation is unable to render, please try loading this page with nbviewer.org.</b></div><div class=\"sk-container\" hidden><div class=\"sk-item\"><div class=\"sk-estimator sk-toggleable\"><input class=\"sk-toggleable__control sk-hidden--visually\" id=\"sk-estimator-id-1\" type=\"checkbox\" checked><label for=\"sk-estimator-id-1\" class=\"sk-toggleable__label sk-toggleable__label-arrow\">NearestNeighbors</label><div class=\"sk-toggleable__content\"><pre>NearestNeighbors(algorithm=&#x27;ball_tree&#x27;, n_neighbors=1)</pre></div></div></div></div></div>"
      ],
      "text/plain": [
       "NearestNeighbors(algorithm='ball_tree', n_neighbors=1)"
      ]
     },
     "execution_count": 146,
     "metadata": {},
     "output_type": "execute_result"
    }
   ],
   "source": [
    "embeddings = df_embedded[\"embedded\"].to_list()\n",
    "clusters = df_embedded.index.to_list()\n",
    "\n",
    "nn_model = NearestNeighbors(n_neighbors=1, algorithm='ball_tree')\n",
    "nn_model.fit(embeddings)\n"
   ]
  },
  {
   "cell_type": "code",
   "execution_count": 148,
   "metadata": {},
   "outputs": [],
   "source": [
    "def add_new_image(image_path):\n",
    "    \n",
    "    # open the image and save in the data folder\n",
    "    try:\n",
    "        new_name = str(uuid.uuid4())\n",
    "        img = Image.open(image_path)\n",
    "        img.save(\"../../data/\" + new_name + \".jpg\")\n",
    "\n",
    "    except Exception as e:\n",
    "        return Exception(e)\n",
    "    \n",
    "    embedded = find_image_embedded(image_path)\n",
    "\n",
    "    df.loc[len(df)] = {\"img\": image_path, \"embedded\": embedded}\n",
    "\n",
    "    distance, index = nn_model.kneighbors([embedded])\n",
    "\n",
    "    if distance[0][0] < eps:\n",
    "        # Se la distanza è minore di eps allora è un volto già presente nel database\n",
    "        # Quindi lo aggiungiamo al cluster corrispondente\n",
    "\n",
    "        ## Aggiungere il volto al cluster corrispondente\n",
    "        database_df.loc[new_name + \".jpg\"] = {\"identity\": clusters[index[0][0]]}\n",
    "        # esporta il database\n",
    "        database_df.to_csv(\"./database/database.csv\")\n",
    "\n",
    "        console.log(\"il volto \" + str(new_name) +  \" è stato aggiunto al cluster \" + str(clusters[index[0][0]]) + \" con distanza \" + str(distance[0][0]) )\n",
    "\n",
    "    else:\n",
    "        database_df.loc[new_name + \".jpg\"] = {\"identity\": -1}\n",
    "        database_df.to_csv(\"./database/database.csv\")\n"
   ]
  },
  {
   "cell_type": "code",
   "execution_count": 142,
   "metadata": {},
   "outputs": [
    {
     "data": {
      "text/html": [
       "<pre style=\"white-space:pre;overflow-x:auto;line-height:normal;font-family:Menlo,'DejaVu Sans Mono',consolas,'Courier New',monospace\"><span style=\"color: #7fbfbf; text-decoration-color: #7fbfbf\">[17:41:34] </span>il volto <span style=\"color: #ffff00; text-decoration-color: #ffff00\">dc582419-5541-4642-842b-532254a941ca</span> è stato aggiunto al cluster <span style=\"color: #008080; text-decoration-color: #008080; font-weight: bold\">0</span> con         <a href=\"file:///var/folders/km/120p9crx77scwcfclv6zynfr0000gn/T/ipykernel_8026/2153975257.py\" target=\"_blank\"><span style=\"color: #7f7f7f; text-decoration-color: #7f7f7f\">2153975257.py</span></a><span style=\"color: #7f7f7f; text-decoration-color: #7f7f7f\">:</span><a href=\"file:///var/folders/km/120p9crx77scwcfclv6zynfr0000gn/T/ipykernel_8026/2153975257.py#27\" target=\"_blank\"><span style=\"color: #7f7f7f; text-decoration-color: #7f7f7f\">27</span></a>\n",
       "<span style=\"color: #7fbfbf; text-decoration-color: #7fbfbf\">           </span>distanza <span style=\"color: #008080; text-decoration-color: #008080; font-weight: bold\">14.59208934125638</span>                                                              <span style=\"color: #7f7f7f; text-decoration-color: #7f7f7f\">                </span>\n",
       "</pre>\n"
      ],
      "text/plain": [
       "\u001b[2;36m[17:41:34]\u001b[0m\u001b[2;36m \u001b[0mil volto \u001b[93mdc582419-5541-4642-842b-532254a941ca\u001b[0m è stato aggiunto al cluster \u001b[1;36m0\u001b[0m con         \u001b]8;id=499456;file:///var/folders/km/120p9crx77scwcfclv6zynfr0000gn/T/ipykernel_8026/2153975257.py\u001b\\\u001b[2m2153975257.py\u001b[0m\u001b]8;;\u001b\\\u001b[2m:\u001b[0m\u001b]8;id=358826;file:///var/folders/km/120p9crx77scwcfclv6zynfr0000gn/T/ipykernel_8026/2153975257.py#27\u001b\\\u001b[2m27\u001b[0m\u001b]8;;\u001b\\\n",
       "\u001b[2;36m           \u001b[0mdistanza \u001b[1;36m14.59208934125638\u001b[0m                                                              \u001b[2m                \u001b[0m\n"
      ]
     },
     "metadata": {},
     "output_type": "display_data"
    }
   ],
   "source": [
    "add_new_image(\"../../provinaaaa.JPG\")"
   ]
  },
  {
   "cell_type": "code",
   "execution_count": 144,
   "metadata": {},
   "outputs": [
    {
     "name": "stdout",
     "output_type": "stream",
     "text": [
      "{'face': array([[[0., 0., 0.],\n",
      "        [0., 0., 0.],\n",
      "        [0., 0., 0.],\n",
      "        ...,\n",
      "        [0., 0., 0.],\n",
      "        [0., 0., 0.],\n",
      "        [0., 0., 0.]],\n",
      "\n",
      "       [[0., 0., 0.],\n",
      "        [0., 0., 0.],\n",
      "        [0., 0., 0.],\n",
      "        ...,\n",
      "        [0., 0., 0.],\n",
      "        [0., 0., 0.],\n",
      "        [0., 0., 0.]],\n",
      "\n",
      "       [[0., 0., 0.],\n",
      "        [0., 0., 0.],\n",
      "        [0., 0., 0.],\n",
      "        ...,\n",
      "        [0., 0., 0.],\n",
      "        [0., 0., 0.],\n",
      "        [0., 0., 0.]],\n",
      "\n",
      "       ...,\n",
      "\n",
      "       [[0., 0., 0.],\n",
      "        [0., 0., 0.],\n",
      "        [0., 0., 0.],\n",
      "        ...,\n",
      "        [0., 0., 0.],\n",
      "        [0., 0., 0.],\n",
      "        [0., 0., 0.]],\n",
      "\n",
      "       [[0., 0., 0.],\n",
      "        [0., 0., 0.],\n",
      "        [0., 0., 0.],\n",
      "        ...,\n",
      "        [0., 0., 0.],\n",
      "        [0., 0., 0.],\n",
      "        [0., 0., 0.]],\n",
      "\n",
      "       [[0., 0., 0.],\n",
      "        [0., 0., 0.],\n",
      "        [0., 0., 0.],\n",
      "        ...,\n",
      "        [0., 0., 0.],\n",
      "        [0., 0., 0.],\n",
      "        [0., 0., 0.]]], dtype=float32), 'facial_area': {'x': 893, 'y': 1714, 'w': 673, 'h': 858}, 'confidence': 0.9995954632759094}\n"
     ]
    }
   ],
   "source": [
    "embedded = find_image_embedded(\"../../provinaaaa.JPG\")"
   ]
  },
  {
   "cell_type": "code",
   "execution_count": null,
   "metadata": {},
   "outputs": [],
   "source": []
  }
 ],
 "metadata": {
  "kernelspec": {
   "display_name": "Python 3 (ipykernel)",
   "language": "python",
   "name": "python3"
  },
  "language_info": {
   "codemirror_mode": {
    "name": "ipython",
    "version": 3
   },
   "file_extension": ".py",
   "mimetype": "text/x-python",
   "name": "python",
   "nbconvert_exporter": "python",
   "pygments_lexer": "ipython3",
   "version": "3.10.8"
  },
  "orig_nbformat": 4
 },
 "nbformat": 4,
 "nbformat_minor": 2
}
